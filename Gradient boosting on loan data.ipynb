{
 "cells": [
  {
   "cell_type": "code",
   "execution_count": 1,
   "id": "c33d218e",
   "metadata": {},
   "outputs": [],
   "source": [
    "## ======================================================================\n",
    "#            Importing the necessary modules and tools\n",
    "## ======================================================================\n",
    "\n",
    "import pandas as pd; import numpy as np \n",
    "import matplotlib.pyplot as plt\n",
    "import seaborn as sns\n",
    "from sklearn.model_selection import train_test_split\n",
    "\n",
    "# Import GradientBoostingRegressor\n",
    "from sklearn.ensemble import GradientBoostingRegressor\n",
    "\n",
    "\n",
    "# Import GradientBoostingClassifier\n",
    "from sklearn.ensemble import GradientBoostingClassifier\n",
    "\n",
    "# from sklearn.metrics import necessary metrics\n",
    "from sklearn.metrics import mean_squared_error as MSE\n",
    "from sklearn.metrics import roc_auc_score , accuracy_score\n",
    "from sklearn.metrics import classification_report, confusion_matrix\n",
    "\n",
    "# Preprocessing tools\n",
    "from sklearn.preprocessing import MinMaxScaler\n",
    "\n",
    "\n",
    "# Set notebook options\n",
    "# --------------------\n",
    "pd.options.display.float_format = '{:,.3f}'.format\n",
    "%matplotlib inline"
   ]
  },
  {
   "cell_type": "code",
   "execution_count": 2,
   "id": "2ed3b6b1",
   "metadata": {},
   "outputs": [],
   "source": [
    "url = \"https://raw.githubusercontent.com/DrSaadLa/PythonTuts/main/TreeBasedModels/loan_data.csv\"\n",
    "loan = pd.read_csv(url)"
   ]
  },
  {
   "cell_type": "code",
   "execution_count": 3,
   "id": "fafddb6d",
   "metadata": {},
   "outputs": [
    {
     "name": "stdout",
     "output_type": "stream",
     "text": [
      "**************************************************\n",
      "<class 'pandas.core.frame.DataFrame'>\n",
      "RangeIndex: 9578 entries, 0 to 9577\n",
      "Data columns (total 14 columns):\n",
      " #   Column             Non-Null Count  Dtype  \n",
      "---  ------             --------------  -----  \n",
      " 0   credit.policy      9578 non-null   int64  \n",
      " 1   purpose            9578 non-null   object \n",
      " 2   int.rate           9578 non-null   float64\n",
      " 3   installment        9578 non-null   float64\n",
      " 4   log.annual.inc     9578 non-null   float64\n",
      " 5   dti                9578 non-null   float64\n",
      " 6   fico               9578 non-null   int64  \n",
      " 7   days.with.cr.line  9578 non-null   float64\n",
      " 8   revol.bal          9578 non-null   int64  \n",
      " 9   revol.util         9578 non-null   float64\n",
      " 10  inq.last.6mths     9578 non-null   int64  \n",
      " 11  delinq.2yrs        9578 non-null   int64  \n",
      " 12  pub.rec            9578 non-null   int64  \n",
      " 13  not.fully.paid     9578 non-null   int64  \n",
      "dtypes: float64(6), int64(7), object(1)\n",
      "memory usage: 1.0+ MB\n",
      "None\n",
      "**************************************************\n"
     ]
    }
   ],
   "source": [
    "print(\"*\" * 50)\n",
    "print(loan.info())\n",
    "print(\"*\" * 50)"
   ]
  },
  {
   "cell_type": "code",
   "execution_count": 4,
   "id": "f2521858",
   "metadata": {},
   "outputs": [
    {
     "name": "stdout",
     "output_type": "stream",
     "text": [
      "**************************************************\n",
      "   credit.policy             purpose  int.rate  installment  log.annual.inc  \\\n",
      "0              1  debt_consolidation     0.119      829.100          11.350   \n",
      "1              1         credit_card     0.107      228.220          11.082   \n",
      "2              1  debt_consolidation     0.136      366.860          10.373   \n",
      "3              1  debt_consolidation     0.101      162.340          11.350   \n",
      "4              1         credit_card     0.143      102.920          11.300   \n",
      "\n",
      "     dti  fico  days.with.cr.line  revol.bal  revol.util  inq.last.6mths  \\\n",
      "0 19.480   737          5,639.958      28854      52.100               0   \n",
      "1 14.290   707          2,760.000      33623      76.700               0   \n",
      "2 11.630   682          4,710.000       3511      25.600               1   \n",
      "3  8.100   712          2,699.958      33667      73.200               1   \n",
      "4 14.970   667          4,066.000       4740      39.500               0   \n",
      "\n",
      "   delinq.2yrs  pub.rec  not.fully.paid  \n",
      "0            0        0               0  \n",
      "1            0        0               0  \n",
      "2            0        0               0  \n",
      "3            0        0               0  \n",
      "4            1        0               0  \n",
      "**************************************************\n",
      "      credit.policy             purpose  int.rate  installment  \\\n",
      "9573              0           all_other     0.146      344.760   \n",
      "9574              0           all_other     0.125      257.700   \n",
      "9575              0  debt_consolidation     0.107       97.810   \n",
      "9576              0    home_improvement     0.160      351.580   \n",
      "9577              0  debt_consolidation     0.139      853.430   \n",
      "\n",
      "      log.annual.inc    dti  fico  days.with.cr.line  revol.bal  revol.util  \\\n",
      "9573          12.181 10.390   672         10,474.000     215372      82.100   \n",
      "9574          11.142  0.210   722          4,380.000        184       1.100   \n",
      "9575          10.597 13.090   687          3,450.042      10036      82.900   \n",
      "9576          10.820 19.180   692          1,800.000          0       3.200   \n",
      "9577          11.264 16.280   732          4,740.000      37879      57.000   \n",
      "\n",
      "      inq.last.6mths  delinq.2yrs  pub.rec  not.fully.paid  \n",
      "9573               2            0        0               1  \n",
      "9574               5            0        0               1  \n",
      "9575               8            0        0               1  \n",
      "9576               5            0        0               1  \n",
      "9577               6            0        0               1  \n",
      "**************************************************\n"
     ]
    }
   ],
   "source": [
    "print(\"*\" * 50)\n",
    "print(loan.head())\n",
    "print(\"*\" * 50)\n",
    "print(loan.tail())\n",
    "print(\"*\" * 50)"
   ]
  },
  {
   "cell_type": "code",
   "execution_count": 5,
   "id": "6073bd64",
   "metadata": {},
   "outputs": [
    {
     "name": "stdout",
     "output_type": "stream",
     "text": [
      "**************************************************\n",
      "Index(['credit.policy', 'purpose', 'int.rate', 'installment', 'log.annual.inc',\n",
      "       'dti', 'fico', 'days.with.cr.line', 'revol.bal', 'revol.util',\n",
      "       'inq.last.6mths', 'delinq.2yrs', 'pub.rec', 'not.fully.paid'],\n",
      "      dtype='object')\n",
      "**************************************************\n"
     ]
    }
   ],
   "source": [
    "print(\"*\" * 50)\n",
    "print(loan.columns)\n",
    "print(\"*\" * 50)"
   ]
  },
  {
   "cell_type": "code",
   "execution_count": 12,
   "id": "c47edae8",
   "metadata": {},
   "outputs": [
    {
     "name": "stdout",
     "output_type": "stream",
     "text": [
      "**************************************************\n"
     ]
    },
    {
     "data": {
      "text/html": [
       "<div>\n",
       "<style scoped>\n",
       "    .dataframe tbody tr th:only-of-type {\n",
       "        vertical-align: middle;\n",
       "    }\n",
       "\n",
       "    .dataframe tbody tr th {\n",
       "        vertical-align: top;\n",
       "    }\n",
       "\n",
       "    .dataframe thead th {\n",
       "        text-align: right;\n",
       "    }\n",
       "</style>\n",
       "<table border=\"1\" class=\"dataframe\">\n",
       "  <thead>\n",
       "    <tr style=\"text-align: right;\">\n",
       "      <th></th>\n",
       "      <th>count</th>\n",
       "      <th>mean</th>\n",
       "      <th>std</th>\n",
       "      <th>min</th>\n",
       "      <th>25%</th>\n",
       "      <th>50%</th>\n",
       "      <th>75%</th>\n",
       "      <th>max</th>\n",
       "    </tr>\n",
       "  </thead>\n",
       "  <tbody>\n",
       "    <tr>\n",
       "      <th>credit.policy</th>\n",
       "      <td>9,578.000</td>\n",
       "      <td>0.805</td>\n",
       "      <td>0.396</td>\n",
       "      <td>0.000</td>\n",
       "      <td>1.000</td>\n",
       "      <td>1.000</td>\n",
       "      <td>1.000</td>\n",
       "      <td>1.000</td>\n",
       "    </tr>\n",
       "    <tr>\n",
       "      <th>int.rate</th>\n",
       "      <td>9,578.000</td>\n",
       "      <td>0.123</td>\n",
       "      <td>0.027</td>\n",
       "      <td>0.060</td>\n",
       "      <td>0.104</td>\n",
       "      <td>0.122</td>\n",
       "      <td>0.141</td>\n",
       "      <td>0.216</td>\n",
       "    </tr>\n",
       "    <tr>\n",
       "      <th>installment</th>\n",
       "      <td>9,578.000</td>\n",
       "      <td>319.089</td>\n",
       "      <td>207.071</td>\n",
       "      <td>15.670</td>\n",
       "      <td>163.770</td>\n",
       "      <td>268.950</td>\n",
       "      <td>432.762</td>\n",
       "      <td>940.140</td>\n",
       "    </tr>\n",
       "    <tr>\n",
       "      <th>log.annual.inc</th>\n",
       "      <td>9,578.000</td>\n",
       "      <td>10.932</td>\n",
       "      <td>0.615</td>\n",
       "      <td>7.548</td>\n",
       "      <td>10.558</td>\n",
       "      <td>10.929</td>\n",
       "      <td>11.291</td>\n",
       "      <td>14.528</td>\n",
       "    </tr>\n",
       "    <tr>\n",
       "      <th>dti</th>\n",
       "      <td>9,578.000</td>\n",
       "      <td>12.607</td>\n",
       "      <td>6.884</td>\n",
       "      <td>0.000</td>\n",
       "      <td>7.213</td>\n",
       "      <td>12.665</td>\n",
       "      <td>17.950</td>\n",
       "      <td>29.960</td>\n",
       "    </tr>\n",
       "    <tr>\n",
       "      <th>fico</th>\n",
       "      <td>9,578.000</td>\n",
       "      <td>710.846</td>\n",
       "      <td>37.971</td>\n",
       "      <td>612.000</td>\n",
       "      <td>682.000</td>\n",
       "      <td>707.000</td>\n",
       "      <td>737.000</td>\n",
       "      <td>827.000</td>\n",
       "    </tr>\n",
       "    <tr>\n",
       "      <th>days.with.cr.line</th>\n",
       "      <td>9,578.000</td>\n",
       "      <td>4,560.767</td>\n",
       "      <td>2,496.930</td>\n",
       "      <td>178.958</td>\n",
       "      <td>2,820.000</td>\n",
       "      <td>4,139.958</td>\n",
       "      <td>5,730.000</td>\n",
       "      <td>17,639.958</td>\n",
       "    </tr>\n",
       "    <tr>\n",
       "      <th>revol.bal</th>\n",
       "      <td>9,578.000</td>\n",
       "      <td>16,913.964</td>\n",
       "      <td>33,756.190</td>\n",
       "      <td>0.000</td>\n",
       "      <td>3,187.000</td>\n",
       "      <td>8,596.000</td>\n",
       "      <td>18,249.500</td>\n",
       "      <td>1,207,359.000</td>\n",
       "    </tr>\n",
       "    <tr>\n",
       "      <th>revol.util</th>\n",
       "      <td>9,578.000</td>\n",
       "      <td>46.799</td>\n",
       "      <td>29.014</td>\n",
       "      <td>0.000</td>\n",
       "      <td>22.600</td>\n",
       "      <td>46.300</td>\n",
       "      <td>70.900</td>\n",
       "      <td>119.000</td>\n",
       "    </tr>\n",
       "    <tr>\n",
       "      <th>inq.last.6mths</th>\n",
       "      <td>9,578.000</td>\n",
       "      <td>1.577</td>\n",
       "      <td>2.200</td>\n",
       "      <td>0.000</td>\n",
       "      <td>0.000</td>\n",
       "      <td>1.000</td>\n",
       "      <td>2.000</td>\n",
       "      <td>33.000</td>\n",
       "    </tr>\n",
       "    <tr>\n",
       "      <th>delinq.2yrs</th>\n",
       "      <td>9,578.000</td>\n",
       "      <td>0.164</td>\n",
       "      <td>0.546</td>\n",
       "      <td>0.000</td>\n",
       "      <td>0.000</td>\n",
       "      <td>0.000</td>\n",
       "      <td>0.000</td>\n",
       "      <td>13.000</td>\n",
       "    </tr>\n",
       "    <tr>\n",
       "      <th>pub.rec</th>\n",
       "      <td>9,578.000</td>\n",
       "      <td>0.062</td>\n",
       "      <td>0.262</td>\n",
       "      <td>0.000</td>\n",
       "      <td>0.000</td>\n",
       "      <td>0.000</td>\n",
       "      <td>0.000</td>\n",
       "      <td>5.000</td>\n",
       "    </tr>\n",
       "    <tr>\n",
       "      <th>not.fully.paid</th>\n",
       "      <td>9,578.000</td>\n",
       "      <td>0.160</td>\n",
       "      <td>0.367</td>\n",
       "      <td>0.000</td>\n",
       "      <td>0.000</td>\n",
       "      <td>0.000</td>\n",
       "      <td>0.000</td>\n",
       "      <td>1.000</td>\n",
       "    </tr>\n",
       "  </tbody>\n",
       "</table>\n",
       "</div>"
      ],
      "text/plain": [
       "                      count       mean        std     min       25%       50%  \\\n",
       "credit.policy     9,578.000      0.805      0.396   0.000     1.000     1.000   \n",
       "int.rate          9,578.000      0.123      0.027   0.060     0.104     0.122   \n",
       "installment       9,578.000    319.089    207.071  15.670   163.770   268.950   \n",
       "log.annual.inc    9,578.000     10.932      0.615   7.548    10.558    10.929   \n",
       "dti               9,578.000     12.607      6.884   0.000     7.213    12.665   \n",
       "fico              9,578.000    710.846     37.971 612.000   682.000   707.000   \n",
       "days.with.cr.line 9,578.000  4,560.767  2,496.930 178.958 2,820.000 4,139.958   \n",
       "revol.bal         9,578.000 16,913.964 33,756.190   0.000 3,187.000 8,596.000   \n",
       "revol.util        9,578.000     46.799     29.014   0.000    22.600    46.300   \n",
       "inq.last.6mths    9,578.000      1.577      2.200   0.000     0.000     1.000   \n",
       "delinq.2yrs       9,578.000      0.164      0.546   0.000     0.000     0.000   \n",
       "pub.rec           9,578.000      0.062      0.262   0.000     0.000     0.000   \n",
       "not.fully.paid    9,578.000      0.160      0.367   0.000     0.000     0.000   \n",
       "\n",
       "                         75%           max  \n",
       "credit.policy          1.000         1.000  \n",
       "int.rate               0.141         0.216  \n",
       "installment          432.762       940.140  \n",
       "log.annual.inc        11.291        14.528  \n",
       "dti                   17.950        29.960  \n",
       "fico                 737.000       827.000  \n",
       "days.with.cr.line  5,730.000    17,639.958  \n",
       "revol.bal         18,249.500 1,207,359.000  \n",
       "revol.util            70.900       119.000  \n",
       "inq.last.6mths         2.000        33.000  \n",
       "delinq.2yrs            0.000        13.000  \n",
       "pub.rec                0.000         5.000  \n",
       "not.fully.paid         0.000         1.000  "
      ]
     },
     "execution_count": 12,
     "metadata": {},
     "output_type": "execute_result"
    }
   ],
   "source": [
    "print(\"*\" * 50)\n",
    "loan.describe().T\n"
   ]
  },
  {
   "cell_type": "code",
   "execution_count": 13,
   "id": "927f2466",
   "metadata": {},
   "outputs": [
    {
     "data": {
      "text/plain": [
       "(9578, 14)"
      ]
     },
     "execution_count": 13,
     "metadata": {},
     "output_type": "execute_result"
    }
   ],
   "source": [
    "loan.shape"
   ]
  },
  {
   "cell_type": "code",
   "execution_count": 14,
   "id": "7fd709d9",
   "metadata": {},
   "outputs": [
    {
     "data": {
      "text/plain": [
       "credit.policy        0\n",
       "purpose              0\n",
       "int.rate             0\n",
       "installment          0\n",
       "log.annual.inc       0\n",
       "dti                  0\n",
       "fico                 0\n",
       "days.with.cr.line    0\n",
       "revol.bal            0\n",
       "revol.util           0\n",
       "inq.last.6mths       0\n",
       "delinq.2yrs          0\n",
       "pub.rec              0\n",
       "not.fully.paid       0\n",
       "dtype: int64"
      ]
     },
     "execution_count": 14,
     "metadata": {},
     "output_type": "execute_result"
    }
   ],
   "source": [
    "loan.isnull().sum()"
   ]
  },
  {
   "cell_type": "code",
   "execution_count": 15,
   "id": "3788c5e0",
   "metadata": {},
   "outputs": [],
   "source": [
    "loan.drop(\"purpose\", axis = 1, inplace = True)"
   ]
  },
  {
   "cell_type": "code",
   "execution_count": 16,
   "id": "5cef443c",
   "metadata": {},
   "outputs": [
    {
     "data": {
      "text/plain": [
       "(9578, 13)"
      ]
     },
     "execution_count": 16,
     "metadata": {},
     "output_type": "execute_result"
    }
   ],
   "source": [
    "loan.shape"
   ]
  },
  {
   "cell_type": "code",
   "execution_count": 22,
   "id": "27bf49a9",
   "metadata": {},
   "outputs": [
    {
     "data": {
      "text/plain": [
       "1    7710\n",
       "0    1868\n",
       "Name: credit.policy, dtype: int64"
      ]
     },
     "execution_count": 22,
     "metadata": {},
     "output_type": "execute_result"
    }
   ],
   "source": [
    "loan[\"credit.policy\"].value_counts()"
   ]
  },
  {
   "cell_type": "code",
   "execution_count": 23,
   "id": "1f138f1d",
   "metadata": {},
   "outputs": [
    {
     "data": {
      "text/plain": [
       "array([1, 0], dtype=int64)"
      ]
     },
     "execution_count": 23,
     "metadata": {},
     "output_type": "execute_result"
    }
   ],
   "source": [
    "loan[\"credit.policy\"].unique()"
   ]
  },
  {
   "cell_type": "code",
   "execution_count": 41,
   "id": "0ed275ad",
   "metadata": {},
   "outputs": [
    {
     "data": {
      "image/png": "[encoded data removed]",
      "text/plain": [
       "<Figure size 864x720 with 2 Axes>"
      ]
     },
     "metadata": {
      "needs_background": "light"
     },
     "output_type": "display_data"
    }
   ],
   "source": [
    "\n",
    "#     The Correlation Matrix \n",
    "\n",
    "plt.figure(figsize=(12,10))\n",
    "p=sns.heatmap(loan.corr(), annot=True, cmap ='RdYlGn')"
   ]
  },
  {
   "cell_type": "code",
   "execution_count": 28,
   "id": "79580d25",
   "metadata": {},
   "outputs": [],
   "source": [
    "X = loan.iloc[:,1:14]  \n",
    "y = loan.iloc[:,0] "
   ]
  },
  {
   "cell_type": "code",
   "execution_count": 29,
   "id": "8324ce57",
   "metadata": {},
   "outputs": [
    {
     "data": {
      "text/html": [
       "<div>\n",
       "<style scoped>\n",
       "    .dataframe tbody tr th:only-of-type {\n",
       "        vertical-align: middle;\n",
       "    }\n",
       "\n",
       "    .dataframe tbody tr th {\n",
       "        vertical-align: top;\n",
       "    }\n",
       "\n",
       "    .dataframe thead th {\n",
       "        text-align: right;\n",
       "    }\n",
       "</style>\n",
       "<table border=\"1\" class=\"dataframe\">\n",
       "  <thead>\n",
       "    <tr style=\"text-align: right;\">\n",
       "      <th></th>\n",
       "      <th>int.rate</th>\n",
       "      <th>installment</th>\n",
       "      <th>log.annual.inc</th>\n",
       "      <th>dti</th>\n",
       "      <th>fico</th>\n",
       "      <th>days.with.cr.line</th>\n",
       "      <th>revol.bal</th>\n",
       "      <th>revol.util</th>\n",
       "      <th>inq.last.6mths</th>\n",
       "      <th>delinq.2yrs</th>\n",
       "      <th>pub.rec</th>\n",
       "      <th>not.fully.paid</th>\n",
       "    </tr>\n",
       "  </thead>\n",
       "  <tbody>\n",
       "    <tr>\n",
       "      <th>0</th>\n",
       "      <td>0.119</td>\n",
       "      <td>829.100</td>\n",
       "      <td>11.350</td>\n",
       "      <td>19.480</td>\n",
       "      <td>737</td>\n",
       "      <td>5,639.958</td>\n",
       "      <td>28854</td>\n",
       "      <td>52.100</td>\n",
       "      <td>0</td>\n",
       "      <td>0</td>\n",
       "      <td>0</td>\n",
       "      <td>0</td>\n",
       "    </tr>\n",
       "    <tr>\n",
       "      <th>1</th>\n",
       "      <td>0.107</td>\n",
       "      <td>228.220</td>\n",
       "      <td>11.082</td>\n",
       "      <td>14.290</td>\n",
       "      <td>707</td>\n",
       "      <td>2,760.000</td>\n",
       "      <td>33623</td>\n",
       "      <td>76.700</td>\n",
       "      <td>0</td>\n",
       "      <td>0</td>\n",
       "      <td>0</td>\n",
       "      <td>0</td>\n",
       "    </tr>\n",
       "    <tr>\n",
       "      <th>2</th>\n",
       "      <td>0.136</td>\n",
       "      <td>366.860</td>\n",
       "      <td>10.373</td>\n",
       "      <td>11.630</td>\n",
       "      <td>682</td>\n",
       "      <td>4,710.000</td>\n",
       "      <td>3511</td>\n",
       "      <td>25.600</td>\n",
       "      <td>1</td>\n",
       "      <td>0</td>\n",
       "      <td>0</td>\n",
       "      <td>0</td>\n",
       "    </tr>\n",
       "    <tr>\n",
       "      <th>3</th>\n",
       "      <td>0.101</td>\n",
       "      <td>162.340</td>\n",
       "      <td>11.350</td>\n",
       "      <td>8.100</td>\n",
       "      <td>712</td>\n",
       "      <td>2,699.958</td>\n",
       "      <td>33667</td>\n",
       "      <td>73.200</td>\n",
       "      <td>1</td>\n",
       "      <td>0</td>\n",
       "      <td>0</td>\n",
       "      <td>0</td>\n",
       "    </tr>\n",
       "    <tr>\n",
       "      <th>4</th>\n",
       "      <td>0.143</td>\n",
       "      <td>102.920</td>\n",
       "      <td>11.300</td>\n",
       "      <td>14.970</td>\n",
       "      <td>667</td>\n",
       "      <td>4,066.000</td>\n",
       "      <td>4740</td>\n",
       "      <td>39.500</td>\n",
       "      <td>0</td>\n",
       "      <td>1</td>\n",
       "      <td>0</td>\n",
       "      <td>0</td>\n",
       "    </tr>\n",
       "  </tbody>\n",
       "</table>\n",
       "</div>"
      ],
      "text/plain": [
       "   int.rate  installment  log.annual.inc    dti  fico  days.with.cr.line  \\\n",
       "0     0.119      829.100          11.350 19.480   737          5,639.958   \n",
       "1     0.107      228.220          11.082 14.290   707          2,760.000   \n",
       "2     0.136      366.860          10.373 11.630   682          4,710.000   \n",
       "3     0.101      162.340          11.350  8.100   712          2,699.958   \n",
       "4     0.143      102.920          11.300 14.970   667          4,066.000   \n",
       "\n",
       "   revol.bal  revol.util  inq.last.6mths  delinq.2yrs  pub.rec  not.fully.paid  \n",
       "0      28854      52.100               0            0        0               0  \n",
       "1      33623      76.700               0            0        0               0  \n",
       "2       3511      25.600               1            0        0               0  \n",
       "3      33667      73.200               1            0        0               0  \n",
       "4       4740      39.500               0            1        0               0  "
      ]
     },
     "execution_count": 29,
     "metadata": {},
     "output_type": "execute_result"
    }
   ],
   "source": [
    "X.head()"
   ]
  },
  {
   "cell_type": "code",
   "execution_count": 30,
   "id": "ba8e1149",
   "metadata": {},
   "outputs": [],
   "source": [
    "# Splitting the data\n",
    "X_train, X_test, y_train, y_test = train_test_split(X, y, \n",
    "                                                    test_size=0.30,\n",
    "                                                    random_state=42, \n",
    "                                                    stratify= y)"
   ]
  },
  {
   "cell_type": "code",
   "execution_count": 31,
   "id": "090cb13d",
   "metadata": {},
   "outputs": [
    {
     "name": "stdout",
     "output_type": "stream",
     "text": [
      "              precision    recall  f1-score   support\n",
      "\n",
      "           0       0.99      0.94      0.97       561\n",
      "           1       0.99      1.00      0.99      2313\n",
      "\n",
      "    accuracy                           0.99      2874\n",
      "   macro avg       0.99      0.97      0.98      2874\n",
      "weighted avg       0.99      0.99      0.99      2874\n",
      "\n"
     ]
    }
   ],
   "source": [
    "# Fitting the Gradient Boosting Classifier\n",
    "from sklearn.ensemble import GradientBoostingClassifier\n",
    "gb_model = GradientBoostingClassifier() \n",
    "gb_model.fit(X_train, y_train)\n",
    "\n",
    "\n",
    "y_pred_gb = gb_model.predict(X_test)\n",
    "\n",
    "print(classification_report(y_test, y_pred_gb))\n",
    "\n",
    "\n",
    "conf_matrix = confusion_matrix(y_test, y_pred_gb)"
   ]
  },
  {
   "cell_type": "code",
   "execution_count": 43,
   "id": "b2f8c5c2",
   "metadata": {},
   "outputs": [
    {
     "data": {
      "text/plain": [
       "Text(0.5, 15.0, 'Predicted label')"
      ]
     },
     "execution_count": 43,
     "metadata": {},
     "output_type": "execute_result"
    },
    {
     "data": {
      "image/png": "[encoded data removed]",
      "text/plain": [
       "<Figure size 432x288 with 1 Axes>"
      ]
     },
     "metadata": {
      "needs_background": "light"
     },
     "output_type": "display_data"
    }
   ],
   "source": [
    "\n",
    "##      Plotting the Confusion Matrix \n",
    "\n",
    "cm = confusion_matrix(y_test, y_pred_gb)\n",
    "_ = sns.heatmap(pd.DataFrame(cm),\n",
    "                annot = True, \n",
    "                cmap = \"YlGnBu\",\n",
    "                fmt = 'g',\n",
    "                cbar = False)\n",
    "\n",
    "plt.title('Confusion matrix', y = 1.1)\n",
    "plt.ylabel('Actual label')\n",
    "plt.xlabel('Predicted label')"
   ]
  },
  {
   "cell_type": "code",
   "execution_count": 32,
   "id": "68250508",
   "metadata": {},
   "outputs": [
    {
     "name": "stdout",
     "output_type": "stream",
     "text": [
      "**************************************************\n",
      "The GB Accuracy score: 0.9878\n",
      "The GB Area Under ROC: 0.9708\n",
      "**************************************************\n"
     ]
    }
   ],
   "source": [
    "print(\"*\"*50)\n",
    "print(\"The GB Accuracy score: {:0.4f}\".format(accuracy_score(y_test, y_pred_gb)))\n",
    "print(\"The GB Area Under ROC: {:0.4f}\".format(roc_auc_score(y_test, y_pred_gb)))\n",
    "print(\"*\"*50)"
   ]
  },
  {
   "cell_type": "code",
   "execution_count": 33,
   "id": "367e8a2f",
   "metadata": {},
   "outputs": [
    {
     "name": "stdout",
     "output_type": "stream",
     "text": [
      "**************************************************\n",
      "The GBM Accuracy score: 0.9913\n",
      "The GBM Area Under ROC: 0.9976\n",
      "**************************************************\n"
     ]
    }
   ],
   "source": [
    "# fitting gradient bbosting model with some parameters \n",
    "gb_mod = GradientBoostingClassifier(max_depth=4, \n",
    "                                   n_estimators= 250,\n",
    "                                   random_state=42)\n",
    "\n",
    "gb_mod.fit(X_train, y_train)\n",
    "\n",
    "y_pred_proba = gb_mod.predict_proba(X_test)[:, 1]\n",
    "\n",
    "y_pred_gb_mod = gb_mod.predict(X_test)\n",
    "\n",
    "gb_roc_auc = roc_auc_score(y_test, y_pred_proba)\n",
    "\n",
    "print(\"*\"*50)\n",
    "print(\"The GBM Accuracy score: {:0.4f}\".format(accuracy_score(y_test, y_pred_gb_mod)))\n",
    "print(\"The GBM Area Under ROC: {:0.4f}\".format(gb_roc_auc))\n",
    "print(\"*\"*50)"
   ]
  },
  {
   "cell_type": "code",
   "execution_count": 37,
   "id": "005a16d1",
   "metadata": {},
   "outputs": [
    {
     "name": "stdout",
     "output_type": "stream",
     "text": [
      "Fitting 5 folds for each of 108 candidates, totalling 540 fits\n"
     ]
    },
    {
     "data": {
      "text/plain": [
       "GridSearchCV(cv=5, estimator=GradientBoostingClassifier(random_state=42),\n",
       "             param_grid={'learning_rate': [0.05, 0.1, 0.3, 0.5, 0.7, 1],\n",
       "                         'max_depth': [3, 5, 6],\n",
       "                         'max_features': ['log2', 'sqrt'],\n",
       "                         'n_estimators': [100, 150, 200]},\n",
       "             verbose=1)"
      ]
     },
     "execution_count": 37,
     "metadata": {},
     "output_type": "execute_result"
    }
   ],
   "source": [
    "#  Gradient boosting classifier with hyper parameter tuning\n",
    "from sklearn.model_selection import GridSearchCV\n",
    "gbm_grid = {\n",
    "    \"n_estimators\":[100,150,200],\n",
    "    \"learning_rate\": [0.05, 0.1, 0.3, 0.5, 0.7, 1],\n",
    "    \"max_depth\":[3, 5, 6],\n",
    "    \"max_features\":[\"log2\",\"sqrt\"],\n",
    "    }\n",
    "grid_gb = GridSearchCV(\n",
    "            estimator=GradientBoostingClassifier(random_state=42),\n",
    "            param_grid= gbm_grid,\n",
    "            cv=5, \n",
    "            verbose = 1)\n",
    "grid_gb.fit(X_train, y_train)"
   ]
  },
  {
   "cell_type": "code",
   "execution_count": 39,
   "id": "1797869e",
   "metadata": {},
   "outputs": [
    {
     "name": "stdout",
     "output_type": "stream",
     "text": [
      "**************************************************\n",
      "learning_rate     : 0.3\n",
      "max_depth         : 3\n",
      "max_features      : log2\n",
      "n_estimators      : 200\n",
      "**************************************************\n",
      "The best achieved score: 0.99284\n",
      "**************************************************\n"
     ]
    }
   ],
   "source": [
    "print(\"*\"*50)\n",
    "for hyper_name, val in grid_gb.best_params_.items():\n",
    "    print(\"{0:18}: {1}\".format(hyper_name, val))\n",
    "\n",
    "\n",
    "print(\"*\"*50)\n",
    "print('The best achieved score: {:.5f}'.format(grid_gb.best_score_))\n",
    "print(\"*\"*50)"
   ]
  },
  {
   "cell_type": "code",
   "execution_count": 40,
   "id": "9125f769",
   "metadata": {},
   "outputs": [
    {
     "name": "stdout",
     "output_type": "stream",
     "text": [
      "        The Gradient Boosting Classification report         \n",
      "**************************************************\n",
      "              precision    recall  f1-score   support\n",
      "\n",
      "           0       0.99      0.96      0.97       561\n",
      "           1       0.99      1.00      0.99      2313\n",
      "\n",
      "    accuracy                           0.99      2874\n",
      "   macro avg       0.99      0.98      0.98      2874\n",
      "weighted avg       0.99      0.99      0.99      2874\n",
      "\n",
      "**************************************************\n"
     ]
    }
   ],
   "source": [
    "# Training the best classifier\n",
    "# --------------------------\n",
    "best_clf = GradientBoostingClassifier(\n",
    "              random_state=42,\n",
    "              learning_rate=0.3, \n",
    "              max_depth=3,\n",
    "              max_features=\"log2\", \n",
    "              n_estimators=200)\n",
    "\n",
    "# ------------------------\n",
    "best_clf.fit(X_train, y_train)\n",
    "\n",
    "\n",
    "# ----------------\n",
    "\n",
    "best_preds = best_clf.predict(X_test)\n",
    "\n",
    "print(\"The Gradient Boosting Classification report\".center(60))\n",
    "print(\"*\"*50)\n",
    "print(classification_report(y_test, best_preds))\n",
    "print(\"*\"*50)"
   ]
  },
  {
   "cell_type": "code",
   "execution_count": null,
   "id": "e70d31ea",
   "metadata": {},
   "outputs": [],
   "source": []
  }
 ],
 "metadata": {
  "kernelspec": {
   "display_name": "Python 3",
   "language": "python",
   "name": "python3"
  },
  "language_info": {
   "codemirror_mode": {
    "name": "ipython",
    "version": 3
   },
   "file_extension": ".py",
   "mimetype": "text/x-python",
   "name": "python",
   "nbconvert_exporter": "python",
   "pygments_lexer": "ipython3",
   "version": "3.8.8"
  }
 },
 "nbformat": 4,
 "nbformat_minor": 5
}
