{
 "cells": [
  {
   "cell_type": "markdown",
   "id": "64590ae0",
   "metadata": {},
   "source": [
    "# Credit Card Project "
   ]
  },
  {
   "cell_type": "markdown",
   "id": "38c51fa2",
   "metadata": {},
   "source": [
    "The data set will be use in this small project is from the book **Econometric Analysis** by **William Green**. The [credit cared data](https://www.kaggle.com/dansbecker/aer-credit-card-data) is from kaggle. You can also download it from this [here](https://github.com/DrSaadLa/PythonTuts/blob/main/Data/AER_credit_card_data.csv). "
   ]
  },
  {
   "cell_type": "markdown",
   "id": "008f98ed",
   "metadata": {},
   "source": [
    "## Data Description\n",
    "\n",
    "**Card**:    Dummy variable, 1 if application for credit card accepted, 0 if not\n",
    "\n",
    "**reports**: Number of major derogatory reports\n",
    "\n",
    "**age**:     Age n years plus twelfths of a year\n",
    "\n",
    "**income**:  Yearly income (divided by 10,000)\n",
    "\n",
    "**share**:   Ratio of monthly credit card expenditure to yearly income\n",
    "\n",
    "**expenditure**: Average monthly credit card expenditure\n",
    "\n",
    "**owner**:      1 if owns their home, 0 if rent\n",
    "\n",
    "**selfempl**:   1 if self employed, 0 if not.\n",
    "\n",
    "**dependents**: 1 + number of dependents\n",
    "\n",
    "**months**:     Months living at current address\n",
    "\n",
    "**majorcards**: Number of major credit cards held\n",
    "\n",
    "**active**:     Number of active credit accounts"
   ]
  },
  {
   "cell_type": "markdown",
   "id": "03d8b420",
   "metadata": {},
   "source": [
    "## Problem Description\n",
    "\n",
    " - In this project, we will mainly focus on **Exploring** the data set and carry some descriptive statistics. Finally we draw some conclusions upon our results"
   ]
  },
  {
   "cell_type": "markdown",
   "id": "134cca75",
   "metadata": {},
   "source": [
    "### Import the necessary packages with their aliases\n",
    "\n",
    "  - Import pandas\n",
    "  - Import numpy\n",
    "  - Import matplotlib\n",
    "  - Import seaborn"
   ]
  },
  {
   "cell_type": "code",
   "execution_count": 1,
   "id": "fddac3bd",
   "metadata": {},
   "outputs": [],
   "source": []
  },
  {
   "cell_type": "markdown",
   "id": "f0113fa2",
   "metadata": {},
   "source": [
    "### Load the data set"
   ]
  },
  {
   "cell_type": "code",
   "execution_count": 2,
   "id": "bf814f10",
   "metadata": {},
   "outputs": [],
   "source": [
    "url = \"https://raw.githubusercontent.com/DrSaadLa/PythonTuts/main/Data/credit.csv\""
   ]
  },
  {
   "cell_type": "markdown",
   "id": "d8dc9935",
   "metadata": {},
   "source": [
    "#### Read the The CSV file, and call the data **credit**"
   ]
  },
  {
   "cell_type": "code",
   "execution_count": 3,
   "id": "3887ec50",
   "metadata": {},
   "outputs": [],
   "source": []
  },
  {
   "cell_type": "markdown",
   "id": "8bcd65b0",
   "metadata": {},
   "source": [
    "## Data Exploration\n"
   ]
  },
  {
   "cell_type": "markdown",
   "id": "95b5f30c",
   "metadata": {},
   "source": [
    "### Check the data information"
   ]
  },
  {
   "cell_type": "code",
   "execution_count": null,
   "id": "259d2007",
   "metadata": {},
   "outputs": [],
   "source": []
  },
  {
   "cell_type": "markdown",
   "id": "eccb9294",
   "metadata": {},
   "source": [
    "### Answer the question Literally\n",
    "\n",
    " - How many variables?\n",
    " \n",
    " - How many observations?\n",
    " \n",
    " - What is the size of the data in memory?\n",
    " \n",
    " - How many numeric variables? \n",
    " \n",
    " - How many nominal variables?"
   ]
  },
  {
   "cell_type": "markdown",
   "id": "dcb1d196",
   "metadata": {},
   "source": [
    "1. Number of variables:\n",
    "\n",
    "2. Number of observations:\n",
    "\n",
    "3. Size of the data in memory: \n",
    "\n",
    "4. The number of numeric variables:\n",
    "\n",
    "5. The number of string variables:"
   ]
  },
  {
   "cell_type": "markdown",
   "id": "7d681e22",
   "metadata": {},
   "source": [
    "### Check the head of the data"
   ]
  },
  {
   "cell_type": "code",
   "execution_count": null,
   "id": "613f9ad9",
   "metadata": {},
   "outputs": [],
   "source": []
  },
  {
   "cell_type": "markdown",
   "id": "e3f256f2",
   "metadata": {},
   "source": [
    "### Check the column names"
   ]
  },
  {
   "cell_type": "code",
   "execution_count": null,
   "id": "39da924c",
   "metadata": {},
   "outputs": [],
   "source": []
  },
  {
   "cell_type": "code",
   "execution_count": null,
   "id": "63f7eedb",
   "metadata": {},
   "outputs": [],
   "source": []
  },
  {
   "cell_type": "markdown",
   "id": "d8804018",
   "metadata": {},
   "source": [
    "## Exploratory Data Analysis\n",
    "\n",
    "In order to do this section please refer to [this tutorial](https://github.com/DrSaadLa/PythonTuts/blob/main/PandasTuts/03.05.%20Pandas%20Operations.ipynb)"
   ]
  },
  {
   "cell_type": "markdown",
   "id": "1ef2c42c",
   "metadata": {},
   "source": [
    "## check the summary statistics of the whole data set"
   ]
  },
  {
   "cell_type": "code",
   "execution_count": null,
   "id": "ca92f2cd",
   "metadata": {},
   "outputs": [],
   "source": []
  },
  {
   "cell_type": "markdown",
   "id": "de727d98",
   "metadata": {},
   "source": [
    "### How many missing values are there if any?"
   ]
  },
  {
   "cell_type": "code",
   "execution_count": null,
   "id": "a3b89662",
   "metadata": {},
   "outputs": [],
   "source": []
  },
  {
   "cell_type": "code",
   "execution_count": null,
   "id": "e5f735c8",
   "metadata": {},
   "outputs": [],
   "source": []
  },
  {
   "cell_type": "markdown",
   "id": "060487f6",
   "metadata": {},
   "source": [
    "### How many unique values in these variables\n",
    "\n",
    "1. card\n",
    "2. owner\n",
    "3. selfemp\n",
    "\n",
    "Hint: Give the table of each variable."
   ]
  },
  {
   "cell_type": "code",
   "execution_count": null,
   "id": "bd9527c6",
   "metadata": {},
   "outputs": [],
   "source": []
  },
  {
   "cell_type": "code",
   "execution_count": null,
   "id": "68270450",
   "metadata": {},
   "outputs": [],
   "source": []
  },
  {
   "cell_type": "code",
   "execution_count": null,
   "id": "31ed007f",
   "metadata": {},
   "outputs": [],
   "source": []
  },
  {
   "cell_type": "markdown",
   "id": "1ae02a3b",
   "metadata": {},
   "source": [
    "### What is the Average, min, max  Age of Applicants"
   ]
  },
  {
   "cell_type": "code",
   "execution_count": null,
   "id": "9b3a5607",
   "metadata": {},
   "outputs": [],
   "source": []
  },
  {
   "cell_type": "code",
   "execution_count": null,
   "id": "c37bfd8f",
   "metadata": {},
   "outputs": [],
   "source": []
  },
  {
   "cell_type": "code",
   "execution_count": null,
   "id": "b747cef7",
   "metadata": {},
   "outputs": [],
   "source": []
  },
  {
   "cell_type": "code",
   "execution_count": null,
   "id": "4e36b1a3",
   "metadata": {},
   "outputs": [],
   "source": []
  },
  {
   "cell_type": "markdown",
   "id": "d29b0045",
   "metadata": {},
   "source": [
    "### What is the Average, min, max  Income of Applicants"
   ]
  },
  {
   "cell_type": "code",
   "execution_count": null,
   "id": "9906f5be",
   "metadata": {},
   "outputs": [],
   "source": []
  },
  {
   "cell_type": "markdown",
   "id": "60fb1411",
   "metadata": {},
   "source": [
    "### What is the Highest Income, and how old is this person?\n",
    "\n",
    "Hint: use **idxmax** "
   ]
  },
  {
   "cell_type": "code",
   "execution_count": null,
   "id": "e171ff9c",
   "metadata": {},
   "outputs": [],
   "source": []
  },
  {
   "cell_type": "code",
   "execution_count": null,
   "id": "343c4f9e",
   "metadata": {},
   "outputs": [],
   "source": []
  },
  {
   "cell_type": "code",
   "execution_count": null,
   "id": "6db685c2",
   "metadata": {},
   "outputs": [],
   "source": []
  },
  {
   "cell_type": "code",
   "execution_count": null,
   "id": "31435380",
   "metadata": {},
   "outputs": [],
   "source": []
  },
  {
   "cell_type": "markdown",
   "id": "c8b1f767",
   "metadata": {},
   "source": [
    "### What is the average income by card?\n",
    "\n",
    "Hint: use groupby function."
   ]
  },
  {
   "cell_type": "code",
   "execution_count": null,
   "id": "eeb59f81",
   "metadata": {},
   "outputs": [],
   "source": []
  },
  {
   "cell_type": "markdown",
   "id": "591bd335",
   "metadata": {},
   "source": [
    "### What is the average expenditure by owner and selfemp?"
   ]
  },
  {
   "cell_type": "code",
   "execution_count": null,
   "id": "c07bf800",
   "metadata": {},
   "outputs": [],
   "source": []
  },
  {
   "cell_type": "markdown",
   "id": "7f03d7a1",
   "metadata": {},
   "source": [
    "## Advanced Section"
   ]
  },
  {
   "cell_type": "markdown",
   "id": "5a7d9f41",
   "metadata": {},
   "source": [
    "### 1. Change The columns name to uppercase"
   ]
  },
  {
   "cell_type": "markdown",
   "id": "d7e4106e",
   "metadata": {},
   "source": [
    "### 2. Apply the following functions as follows:\n",
    "\n",
    "   2.1. min, max, mean, median, std for the numeric variables.\n",
    "   \n",
    "   2.2. apply the count function to categorical variables."
   ]
  },
  {
   "cell_type": "markdown",
   "id": "15009aed",
   "metadata": {},
   "source": [
    "# Best of luck"
   ]
  }
 ],
 "metadata": {
  "kernelspec": {
   "display_name": "Python 3",
   "language": "python",
   "name": "python3"
  },
  "language_info": {
   "codemirror_mode": {
    "name": "ipython",
    "version": 3
   },
   "file_extension": ".py",
   "mimetype": "text/x-python",
   "name": "python",
   "nbconvert_exporter": "python",
   "pygments_lexer": "ipython3",
   "version": "3.8.2"
  }
 },
 "nbformat": 4,
 "nbformat_minor": 5
}
